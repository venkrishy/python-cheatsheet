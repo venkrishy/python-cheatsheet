{
 "cells": [
  {
   "cell_type": "code",
   "execution_count": 198,
   "metadata": {},
   "outputs": [
    {
     "name": "stdout",
     "output_type": "stream",
     "text": [
      "x[0] = V\n",
      "x[1] = E\n",
      "x[2] = N\n",
      "x[3] = K\n",
      "x[4] = Y\n",
      "x[5] string index out of bounds exception\n"
     ]
    }
   ],
   "source": [
    "x=\"VENKY\"\n",
    "nums = range(6)\n",
    "for n in nums:\n",
    "    try:\n",
    "        print(\"x[{}] = {}\".format(n, x[n]))\n",
    "    except:\n",
    "        print(\"x[{}] string index out of bounds exception\".format(n))"
   ]
  },
  {
   "cell_type": "markdown",
   "metadata": {},
   "source": [
    "# Split with a negative index"
   ]
  },
  {
   "cell_type": "code",
   "execution_count": 199,
   "metadata": {},
   "outputs": [
    {
     "name": "stdout",
     "output_type": "stream",
     "text": [
      "x[-1] = Y\n",
      "x[-2] = K\n",
      "x[-3] = N\n",
      "x[-4] = E\n",
      "x[-5] = V\n",
      "x[-6] string index out of bounds exception\n"
     ]
    }
   ],
   "source": [
    "nums = range(-1, -7, -1)\n",
    "for n in nums:\n",
    "    try:\n",
    "        print(\"x[{}] = {}\".format(n, x[n]))\n",
    "    except:\n",
    "        print(\"x[{}] string index out of bounds exception\".format(n))\n"
   ]
  },
  {
   "cell_type": "markdown",
   "metadata": {},
   "source": [
    "# Split with an end Index\n",
    "Note no out of bounds exception"
   ]
  },
  {
   "cell_type": "code",
   "execution_count": 88,
   "metadata": {},
   "outputs": [
    {
     "name": "stdout",
     "output_type": "stream",
     "text": [
      "Split with an end Index. Note no out of bounds exception\n",
      "x[0:0] = \n",
      "x[0:1] = V\n",
      "x[0:2] = VE\n",
      "x[0:3] = VEN\n",
      "x[0:4] = VENK\n",
      "x[0:5] = VENKY\n",
      "x[0:6] = VENKY\n",
      "x[1:0] = \n",
      "x[1:1] = \n",
      "x[1:2] = E\n"
     ]
    }
   ],
   "source": [
    "nums = range(7)\n",
    "for n in nums:\n",
    "    print(\"x[0:{}] = {}\".format(n, x[0:n]))\n",
    "\n",
    "nums = range(3)\n",
    "for n in nums:\n",
    "    print(\"x[1:{}] = {}\".format(n, x[1:n]))\n",
    "\n"
   ]
  },
  {
   "cell_type": "markdown",
   "metadata": {},
   "source": [
    "# End Index is negative"
   ]
  },
  {
   "cell_type": "code",
   "execution_count": 82,
   "metadata": {},
   "outputs": [
    {
     "name": "stdout",
     "output_type": "stream",
     "text": [
      "End Index is negative\n",
      "x[0:-1] = VENK. Empty string\n",
      "x[0:-2] = VEN. Empty string\n",
      "x[0:-3] = VE\n",
      "x[0:-4] = V\n",
      "x[0:-5] = \n",
      "x[0:-6] = \n"
     ]
    }
   ],
   "source": [
    "print(\"x[0:-1] = {}. Empty string\".format(x[0:-1]))\n",
    "print(\"x[0:-2] = {}. Empty string\".format(x[0:-2]))\n",
    "print(\"x[0:-3] = {}\".format(x[0:-3]))\n",
    "print(\"x[0:-4] = {}\".format(x[0:-4]))\n",
    "print(\"x[0:-5] = {}\".format(x[0:-5]))\n",
    "print(\"x[0:-6] = {}\".format(x[0:-5]))"
   ]
  },
  {
   "cell_type": "markdown",
   "metadata": {},
   "source": [
    "# Split with an end index and step"
   ]
  },
  {
   "cell_type": "code",
   "execution_count": 111,
   "metadata": {},
   "outputs": [
    {
     "name": "stdout",
     "output_type": "stream",
     "text": [
      "Split with an end index and step\n",
      "VNY\n",
      "YN\n",
      "YKNEV\n",
      "YKNE\n",
      "YKNE\n",
      "KNE\n",
      "KNE\n",
      "E\n"
     ]
    }
   ],
   "source": [
    "print(x[0:5:2])\n",
    "print(x[4:0:-2])\n",
    "print(x[::-1])\n"
   ]
  },
  {
   "cell_type": "code",
   "execution_count": 197,
   "metadata": {},
   "outputs": [
    {
     "name": "stdout",
     "output_type": "stream",
     "text": [
      "YKNE\n",
      "YKNE\n",
      "KNE\n",
      "NE\n",
      "E\n"
     ]
    }
   ],
   "source": [
    "print(x[5:0:-1])\n",
    "print(x[4:0:-1])\n",
    "print(x[3:0:-1])\n",
    "print(x[2:0:-1])\n",
    "print(x[1:0:-1])"
   ]
  },
  {
   "cell_type": "markdown",
   "metadata": {},
   "source": [
    "# Reversing a String with negative index"
   ]
  },
  {
   "cell_type": "code",
   "execution_count": 196,
   "metadata": {},
   "outputs": [
    {
     "name": "stdout",
     "output_type": "stream",
     "text": [
      "YKNEV\n"
     ]
    }
   ],
   "source": [
    "print(x[::-1])"
   ]
  }
 ],
 "metadata": {
  "kernelspec": {
   "display_name": "Python 3",
   "language": "python",
   "name": "python3"
  },
  "language_info": {
   "codemirror_mode": {
    "name": "ipython",
    "version": 3
   },
   "file_extension": ".py",
   "mimetype": "text/x-python",
   "name": "python",
   "nbconvert_exporter": "python",
   "pygments_lexer": "ipython3",
   "version": "3.7.9"
  }
 },
 "nbformat": 4,
 "nbformat_minor": 4
}
