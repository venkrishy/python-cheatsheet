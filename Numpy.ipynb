{
 "cells": [
  {
   "cell_type": "markdown",
   "metadata": {},
   "source": [
    "# Numpy Library"
   ]
  },
  {
   "cell_type": "code",
   "execution_count": 20,
   "metadata": {},
   "outputs": [],
   "source": [
    "import numpy as np"
   ]
  },
  {
   "cell_type": "code",
   "execution_count": 21,
   "metadata": {
    "scrolled": true
   },
   "outputs": [
    {
     "name": "stdout",
     "output_type": "stream",
     "text": [
      "(4,)\n",
      "<class 'numpy.ndarray'>\n"
     ]
    },
    {
     "data": {
      "text/plain": [
       "array([1, 2, 3, 4])"
      ]
     },
     "execution_count": 21,
     "metadata": {},
     "output_type": "execute_result"
    }
   ],
   "source": [
    "np1 = np.array([1,2,3,4]) #array([1, 2, 3, 4])\n",
    "print(np1.shape) # (4,)\n",
    "print(type(np1)) # <class 'numpy.ndarray'>\n",
    "np1"
   ]
  },
  {
   "cell_type": "markdown",
   "metadata": {},
   "source": [
    "# Array creation Routines\n",
    "[array-creation](https://numpy.org/devdocs/reference/routines.array-creation.html)"
   ]
  },
  {
   "cell_type": "markdown",
   "metadata": {},
   "source": [
    "# 1. Array function"
   ]
  },
  {
   "cell_type": "code",
   "execution_count": 22,
   "metadata": {},
   "outputs": [
    {
     "name": "stdout",
     "output_type": "stream",
     "text": [
      "Mat1.shape=(2, 2)\n",
      "Mat1.dtype=int64\n"
     ]
    }
   ],
   "source": [
    "Mat1 = np.array( [[1,2], [3,4]] )\n",
    "print(\"Mat1.shape={}\".format(Mat1.shape))\n",
    "print(\"Mat1.dtype={}\".format(Mat1.dtype))\n"
   ]
  },
  {
   "cell_type": "markdown",
   "metadata": {},
   "source": [
    "# 2. ARANGE function\n",
    "Return evenly spaced values within a given interval."
   ]
  },
  {
   "cell_type": "code",
   "execution_count": 23,
   "metadata": {},
   "outputs": [
    {
     "data": {
      "text/plain": [
       "array([0, 1, 2, 3, 4, 5, 6, 7, 8, 9])"
      ]
     },
     "execution_count": 23,
     "metadata": {},
     "output_type": "execute_result"
    }
   ],
   "source": [
    "Mat2 = np.arange(0, 10, 1)\n",
    "Mat2"
   ]
  },
  {
   "cell_type": "markdown",
   "metadata": {},
   "source": [
    "# 3. Linspace function\n",
    "Returns evenly spaced numbers "
   ]
  },
  {
   "cell_type": "code",
   "execution_count": 15,
   "metadata": {},
   "outputs": [
    {
     "data": {
      "text/plain": [
       "array([0.  , 1.25, 2.5 , 3.75, 5.  ])"
      ]
     },
     "execution_count": 15,
     "metadata": {},
     "output_type": "execute_result"
    }
   ],
   "source": [
    "Mat3 = np.linspace(0, 5, 5) #Returns evenly spaced numbers inclusive\n",
    "Mat3"
   ]
  },
  {
   "cell_type": "markdown",
   "metadata": {},
   "source": [
    "# 4. Random.rand function\n",
    "Create an array of the given shape and populate it with random samples from a uniform distribution over [0,1)"
   ]
  },
  {
   "cell_type": "code",
   "execution_count": 13,
   "metadata": {},
   "outputs": [
    {
     "name": "stdout",
     "output_type": "stream",
     "text": [
      "rand(0) = [], shape=(0,)\n",
      "rand(1) = [0.84859169], shape=(1,)\n",
      "rand(1,2) = [[0.12394497 0.29039837]], shape=(1, 2)\n",
      "rand(2,2) = [[0.5108869  0.46195282]\n",
      " [0.99206887 0.67980549]], shape=(2, 2)\n",
      "rand(1,1,1) = [[[0.04300632]]], shape=(1, 1, 1)\n"
     ]
    }
   ],
   "source": [
    "Mat1 = np.random.rand(0) # Empty Array\n",
    "Mat2 = np.random.rand(1) # Vector\n",
    "Mat3 = np.random.rand(1,2) # 1 x 2 array\n",
    "Mat4 = np.random.rand(2,2) # 2 x 2 array\n",
    "Mat5 = np.random.rand(1,1,1) # 1 x 1 x 1 array\n",
    "\n",
    "print(\"{} {}, shape={}\".format(\"rand(0) =\", Mat1, Mat1.shape))\n",
    "print(\"{} {}, shape={}\".format(\"rand(1) =\", Mat2, Mat2.shape))\n",
    "print(\"{} {}, shape={}\".format(\"rand(1,2) =\", Mat3, Mat3.shape))\n",
    "print(\"{} {}, shape={}\".format(\"rand(2,2) =\", Mat4, Mat4.shape))\n",
    "print(\"{} {}, shape={}\".format(\"rand(1,1,1) =\", Mat5, Mat5.shape))"
   ]
  },
  {
   "cell_type": "code",
   "execution_count": null,
   "metadata": {},
   "outputs": [],
   "source": [
    "# 5. Random.randN function"
   ]
  },
  {
   "cell_type": "code",
   "execution_count": null,
   "metadata": {},
   "outputs": [],
   "source": []
  },
  {
   "cell_type": "markdown",
   "metadata": {},
   "source": [
    "# 5. Diag function\n",
    "Creates an array filling in the elements diagonally"
   ]
  },
  {
   "cell_type": "code",
   "execution_count": 14,
   "metadata": {},
   "outputs": [
    {
     "name": "stdout",
     "output_type": "stream",
     "text": [
      "[[ 3  0  0  0  0]\n",
      " [ 0  7  0  0  0]\n",
      " [ 0  0  9  0  0]\n",
      " [ 0  0  0 15  0]\n",
      " [ 0  0  0  0 25]]\n"
     ]
    }
   ],
   "source": [
    "print(np.diag([3,7,9,15,25]))"
   ]
  },
  {
   "cell_type": "code",
   "execution_count": null,
   "metadata": {},
   "outputs": [],
   "source": []
  }
 ],
 "metadata": {
  "kernelspec": {
   "display_name": "Python 3",
   "language": "python",
   "name": "python3"
  },
  "language_info": {
   "codemirror_mode": {
    "name": "ipython",
    "version": 3
   },
   "file_extension": ".py",
   "mimetype": "text/x-python",
   "name": "python",
   "nbconvert_exporter": "python",
   "pygments_lexer": "ipython3",
   "version": "3.7.9"
  }
 },
 "nbformat": 4,
 "nbformat_minor": 4
}
